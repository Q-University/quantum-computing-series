{
 "cells": [
  {
   "cell_type": "code",
   "execution_count": 1,
   "id": "353824c9",
   "metadata": {},
   "outputs": [
    {
     "name": "stdout",
     "output_type": "stream",
     "text": [
      "Requirement already satisfied: qiskit==1.0.2 in c:\\users\\ashis\\pycharmprojects\\pythonproject1\\venv\\lib\\site-packages (from qiskit[visualization]==1.0.2) (1.0.2)\n",
      "Requirement already satisfied: rustworkx>=0.14.0 in c:\\users\\ashis\\pycharmprojects\\pythonproject1\\venv\\lib\\site-packages (from qiskit==1.0.2->qiskit[visualization]==1.0.2) (0.14.2)\n",
      "Requirement already satisfied: numpy<2,>=1.17 in c:\\users\\ashis\\pycharmprojects\\pythonproject1\\venv\\lib\\site-packages (from qiskit==1.0.2->qiskit[visualization]==1.0.2) (1.26.4)\n",
      "Requirement already satisfied: scipy>=1.5 in c:\\users\\ashis\\pycharmprojects\\pythonproject1\\venv\\lib\\site-packages (from qiskit==1.0.2->qiskit[visualization]==1.0.2) (1.13.1)\n",
      "Requirement already satisfied: sympy>=1.3 in c:\\users\\ashis\\pycharmprojects\\pythonproject1\\venv\\lib\\site-packages (from qiskit==1.0.2->qiskit[visualization]==1.0.2) (1.12.1)\n",
      "Requirement already satisfied: dill>=0.3 in c:\\users\\ashis\\pycharmprojects\\pythonproject1\\venv\\lib\\site-packages (from qiskit==1.0.2->qiskit[visualization]==1.0.2) (0.3.8)\n",
      "Requirement already satisfied: python-dateutil>=2.8.0 in c:\\users\\ashis\\pycharmprojects\\pythonproject1\\venv\\lib\\site-packages (from qiskit==1.0.2->qiskit[visualization]==1.0.2) (2.9.0.post0)\n",
      "Requirement already satisfied: stevedore>=3.0.0 in c:\\users\\ashis\\pycharmprojects\\pythonproject1\\venv\\lib\\site-packages (from qiskit==1.0.2->qiskit[visualization]==1.0.2) (5.2.0)\n",
      "Requirement already satisfied: typing-extensions in c:\\users\\ashis\\pycharmprojects\\pythonproject1\\venv\\lib\\site-packages (from qiskit==1.0.2->qiskit[visualization]==1.0.2) (4.12.2)\n",
      "Requirement already satisfied: symengine>=0.11 in c:\\users\\ashis\\pycharmprojects\\pythonproject1\\venv\\lib\\site-packages (from qiskit==1.0.2->qiskit[visualization]==1.0.2) (0.11.0)\n",
      "Requirement already satisfied: matplotlib>=3.3 in c:\\users\\ashis\\pycharmprojects\\pythonproject1\\venv\\lib\\site-packages (from qiskit[visualization]==1.0.2) (3.9.0)\n",
      "Requirement already satisfied: pydot in c:\\users\\ashis\\pycharmprojects\\pythonproject1\\venv\\lib\\site-packages (from qiskit[visualization]==1.0.2) (2.0.0)\n",
      "Requirement already satisfied: Pillow>=4.2.1 in c:\\users\\ashis\\pycharmprojects\\pythonproject1\\venv\\lib\\site-packages (from qiskit[visualization]==1.0.2) (10.3.0)\n",
      "Requirement already satisfied: pylatexenc>=1.4 in c:\\users\\ashis\\pycharmprojects\\pythonproject1\\venv\\lib\\site-packages (from qiskit[visualization]==1.0.2) (2.10)\n",
      "Requirement already satisfied: seaborn>=0.9.0 in c:\\users\\ashis\\pycharmprojects\\pythonproject1\\venv\\lib\\site-packages (from qiskit[visualization]==1.0.2) (0.13.2)\n",
      "Requirement already satisfied: contourpy>=1.0.1 in c:\\users\\ashis\\pycharmprojects\\pythonproject1\\venv\\lib\\site-packages (from matplotlib>=3.3->qiskit[visualization]==1.0.2) (1.2.1)\n",
      "Requirement already satisfied: cycler>=0.10 in c:\\users\\ashis\\pycharmprojects\\pythonproject1\\venv\\lib\\site-packages (from matplotlib>=3.3->qiskit[visualization]==1.0.2) (0.12.1)\n",
      "Requirement already satisfied: fonttools>=4.22.0 in c:\\users\\ashis\\pycharmprojects\\pythonproject1\\venv\\lib\\site-packages (from matplotlib>=3.3->qiskit[visualization]==1.0.2) (4.53.0)\n",
      "Requirement already satisfied: kiwisolver>=1.3.1 in c:\\users\\ashis\\pycharmprojects\\pythonproject1\\venv\\lib\\site-packages (from matplotlib>=3.3->qiskit[visualization]==1.0.2) (1.4.5)\n",
      "Requirement already satisfied: packaging>=20.0 in c:\\users\\ashis\\pycharmprojects\\pythonproject1\\venv\\lib\\site-packages (from matplotlib>=3.3->qiskit[visualization]==1.0.2) (24.1)\n",
      "Requirement already satisfied: pyparsing>=2.3.1 in c:\\users\\ashis\\pycharmprojects\\pythonproject1\\venv\\lib\\site-packages (from matplotlib>=3.3->qiskit[visualization]==1.0.2) (3.1.2)\n",
      "Requirement already satisfied: six>=1.5 in c:\\users\\ashis\\pycharmprojects\\pythonproject1\\venv\\lib\\site-packages (from python-dateutil>=2.8.0->qiskit==1.0.2->qiskit[visualization]==1.0.2) (1.16.0)\n",
      "Requirement already satisfied: pandas>=1.2 in c:\\users\\ashis\\pycharmprojects\\pythonproject1\\venv\\lib\\site-packages (from seaborn>=0.9.0->qiskit[visualization]==1.0.2) (2.2.2)\n",
      "Requirement already satisfied: pbr!=2.1.0,>=2.0.0 in c:\\users\\ashis\\pycharmprojects\\pythonproject1\\venv\\lib\\site-packages (from stevedore>=3.0.0->qiskit==1.0.2->qiskit[visualization]==1.0.2) (6.0.0)\n",
      "Requirement already satisfied: mpmath<1.4.0,>=1.1.0 in c:\\users\\ashis\\pycharmprojects\\pythonproject1\\venv\\lib\\site-packages (from sympy>=1.3->qiskit==1.0.2->qiskit[visualization]==1.0.2) (1.3.0)\n",
      "Requirement already satisfied: pytz>=2020.1 in c:\\users\\ashis\\pycharmprojects\\pythonproject1\\venv\\lib\\site-packages (from pandas>=1.2->seaborn>=0.9.0->qiskit[visualization]==1.0.2) (2024.1)\n",
      "Requirement already satisfied: tzdata>=2022.7 in c:\\users\\ashis\\pycharmprojects\\pythonproject1\\venv\\lib\\site-packages (from pandas>=1.2->seaborn>=0.9.0->qiskit[visualization]==1.0.2) (2024.1)\n",
      "Requirement already satisfied: qiskit-aer in c:\\users\\ashis\\pycharmprojects\\pythonproject1\\venv\\lib\\site-packages (0.14.2)\n",
      "Requirement already satisfied: qiskit>=0.45.2 in c:\\users\\ashis\\pycharmprojects\\pythonproject1\\venv\\lib\\site-packages (from qiskit-aer) (1.0.2)\n",
      "Requirement already satisfied: numpy>=1.16.3 in c:\\users\\ashis\\pycharmprojects\\pythonproject1\\venv\\lib\\site-packages (from qiskit-aer) (1.26.4)\n",
      "Requirement already satisfied: scipy>=1.0 in c:\\users\\ashis\\pycharmprojects\\pythonproject1\\venv\\lib\\site-packages (from qiskit-aer) (1.13.1)\n",
      "Requirement already satisfied: psutil>=5 in c:\\users\\ashis\\pycharmprojects\\pythonproject1\\venv\\lib\\site-packages (from qiskit-aer) (5.9.8)\n",
      "Requirement already satisfied: rustworkx>=0.14.0 in c:\\users\\ashis\\pycharmprojects\\pythonproject1\\venv\\lib\\site-packages (from qiskit>=0.45.2->qiskit-aer) (0.14.2)\n",
      "Requirement already satisfied: sympy>=1.3 in c:\\users\\ashis\\pycharmprojects\\pythonproject1\\venv\\lib\\site-packages (from qiskit>=0.45.2->qiskit-aer) (1.12.1)\n",
      "Requirement already satisfied: dill>=0.3 in c:\\users\\ashis\\pycharmprojects\\pythonproject1\\venv\\lib\\site-packages (from qiskit>=0.45.2->qiskit-aer) (0.3.8)\n",
      "Requirement already satisfied: python-dateutil>=2.8.0 in c:\\users\\ashis\\pycharmprojects\\pythonproject1\\venv\\lib\\site-packages (from qiskit>=0.45.2->qiskit-aer) (2.9.0.post0)\n",
      "Requirement already satisfied: stevedore>=3.0.0 in c:\\users\\ashis\\pycharmprojects\\pythonproject1\\venv\\lib\\site-packages (from qiskit>=0.45.2->qiskit-aer) (5.2.0)\n",
      "Requirement already satisfied: typing-extensions in c:\\users\\ashis\\pycharmprojects\\pythonproject1\\venv\\lib\\site-packages (from qiskit>=0.45.2->qiskit-aer) (4.12.2)\n",
      "Requirement already satisfied: symengine>=0.11 in c:\\users\\ashis\\pycharmprojects\\pythonproject1\\venv\\lib\\site-packages (from qiskit>=0.45.2->qiskit-aer) (0.11.0)\n",
      "Requirement already satisfied: six>=1.5 in c:\\users\\ashis\\pycharmprojects\\pythonproject1\\venv\\lib\\site-packages (from python-dateutil>=2.8.0->qiskit>=0.45.2->qiskit-aer) (1.16.0)\n",
      "Requirement already satisfied: pbr!=2.1.0,>=2.0.0 in c:\\users\\ashis\\pycharmprojects\\pythonproject1\\venv\\lib\\site-packages (from stevedore>=3.0.0->qiskit>=0.45.2->qiskit-aer) (6.0.0)\n",
      "Requirement already satisfied: mpmath<1.4.0,>=1.1.0 in c:\\users\\ashis\\pycharmprojects\\pythonproject1\\venv\\lib\\site-packages (from sympy>=1.3->qiskit>=0.45.2->qiskit-aer) (1.3.0)\n",
      "Requirement already satisfied: matplotlib in c:\\users\\ashis\\pycharmprojects\\pythonproject1\\venv\\lib\\site-packages (3.9.0)\n",
      "Requirement already satisfied: contourpy>=1.0.1 in c:\\users\\ashis\\pycharmprojects\\pythonproject1\\venv\\lib\\site-packages (from matplotlib) (1.2.1)\n",
      "Requirement already satisfied: cycler>=0.10 in c:\\users\\ashis\\pycharmprojects\\pythonproject1\\venv\\lib\\site-packages (from matplotlib) (0.12.1)\n",
      "Requirement already satisfied: fonttools>=4.22.0 in c:\\users\\ashis\\pycharmprojects\\pythonproject1\\venv\\lib\\site-packages (from matplotlib) (4.53.0)\n",
      "Requirement already satisfied: kiwisolver>=1.3.1 in c:\\users\\ashis\\pycharmprojects\\pythonproject1\\venv\\lib\\site-packages (from matplotlib) (1.4.5)\n",
      "Requirement already satisfied: numpy>=1.23 in c:\\users\\ashis\\pycharmprojects\\pythonproject1\\venv\\lib\\site-packages (from matplotlib) (1.26.4)\n",
      "Requirement already satisfied: packaging>=20.0 in c:\\users\\ashis\\pycharmprojects\\pythonproject1\\venv\\lib\\site-packages (from matplotlib) (24.1)\n",
      "Requirement already satisfied: pillow>=8 in c:\\users\\ashis\\pycharmprojects\\pythonproject1\\venv\\lib\\site-packages (from matplotlib) (10.3.0)\n",
      "Requirement already satisfied: pyparsing>=2.3.1 in c:\\users\\ashis\\pycharmprojects\\pythonproject1\\venv\\lib\\site-packages (from matplotlib) (3.1.2)\n",
      "Requirement already satisfied: python-dateutil>=2.7 in c:\\users\\ashis\\pycharmprojects\\pythonproject1\\venv\\lib\\site-packages (from matplotlib) (2.9.0.post0)\n",
      "Requirement already satisfied: six>=1.5 in c:\\users\\ashis\\pycharmprojects\\pythonproject1\\venv\\lib\\site-packages (from python-dateutil>=2.7->matplotlib) (1.16.0)\n"
     ]
    }
   ],
   "source": [
    "### Install Qiskit and relevant packages, if needed\n",
    "### IMPORTANT: Make sure you are using python 3.10 or 3.11 for compatibility of the required packages\n",
    "!pip install qiskit[visualization]==1.0.2\n",
    "!pip install qiskit-aer\n",
    "!pip install matplotlib"
   ]
  },
  {
   "cell_type": "code",
   "execution_count": 10,
   "id": "50b4ed0c-0834-40f0-82f4-57f3df3c7fb7",
   "metadata": {},
   "outputs": [
    {
     "data": {
      "image/png": "[encoded data removed]",
      "text/plain": [
       "<Figure size 434.908x367.889 with 1 Axes>"
      ]
     },
     "execution_count": 10,
     "metadata": {},
     "output_type": "execute_result"
    }
   ],
   "source": [
    "from qiskit import QuantumRegister, ClassicalRegister, QuantumCircuit\n",
    "\n",
    "# Create quantum and classical registers with 3 qubits\n",
    "qreg = QuantumRegister(3,\"q\")\n",
    "creg = ClassicalRegister(3,\"classical bits\")\n",
    "\n",
    "# Create a new circuit\n",
    "circuit = QuantumCircuit(qreg,creg)\n",
    "\n",
    "# Apply H gate to all qubits\n",
    "circuit.x(2)\n",
    "circuit.cx(0,1)\n",
    "circuit.h(2)\n",
    "\n",
    "#\n",
    "circuit.draw('mpl')\n"
   ]
  },
  {
   "cell_type": "code",
   "execution_count": 9,
   "id": "8245895c-c7f9-491d-b164-1480aad0c2fc",
   "metadata": {},
   "outputs": [
    {
     "name": "stdout",
     "output_type": "stream",
     "text": [
      "Statevector([0.+0.j, 0.+0.j, 0.+0.j, 0.+0.j, 1.+0.j, 0.+0.j, 0.+0.j,\n",
      "             0.+0.j],\n",
      "            dims=(2, 2, 2))\n"
     ]
    },
    {
     "data": {
      "text/latex": [
       "$$ |100\\rangle$$"
      ],
      "text/plain": [
       "<IPython.core.display.Latex object>"
      ]
     },
     "execution_count": 9,
     "metadata": {},
     "output_type": "execute_result"
    }
   ],
   "source": [
    "from qiskit_aer import StatevectorSimulator\n",
    "from qiskit.quantum_info import Statevector\n",
    "\n",
    "job = StatevectorSimulator().run(circuit)\n",
    "state = job.result().get_statevector(decimals=3)\n",
    "print(state) \n",
    "Statevector(state).draw('latex')"
   ]
  },
  {
   "cell_type": "code",
   "execution_count": null,
   "id": "52f5c256-0427-4702-88de-c1e28dc9576a",
   "metadata": {},
   "outputs": [],
   "source": []
  },
  {
   "cell_type": "code",
   "execution_count": null,
   "id": "7aa09987-6829-4a83-bcdb-3f4d010ca368",
   "metadata": {},
   "outputs": [],
   "source": []
  }
 ],
 "metadata": {
  "kernelspec": {
   "display_name": "Python 3 (ipykernel)",
   "language": "python",
   "name": "python3"
  },
  "language_info": {
   "codemirror_mode": {
    "name": "ipython",
    "version": 3
   },
   "file_extension": ".py",
   "mimetype": "text/x-python",
   "name": "python",
   "nbconvert_exporter": "python",
   "pygments_lexer": "ipython3",
   "version": "3.10.11"
  }
 },
 "nbformat": 4,
 "nbformat_minor": 5
}
